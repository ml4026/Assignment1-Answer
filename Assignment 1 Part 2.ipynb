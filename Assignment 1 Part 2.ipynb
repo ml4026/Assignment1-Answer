{
 "cells": [
  {
   "cell_type": "code",
   "execution_count": 1,
   "metadata": {},
   "outputs": [],
   "source": [
    "import numpy as np\n",
    "import random\n",
    "import matplotlib.pyplot as plt\n",
    "import gym"
   ]
  },
  {
   "cell_type": "code",
   "execution_count": 2,
   "metadata": {},
   "outputs": [
    {
     "name": "stdout",
     "output_type": "stream",
     "text": [
      "RLalgs is a package containing Reinforcement Learning algorithms Policy Iteration, Value Iteration, Q-Learning, and SARSA.\n"
     ]
    }
   ],
   "source": [
    "from RLalgs.incremental import estimate\n",
    "random.seed(6885)\n",
    "numTimeStep = 10000\n",
    "q_h = np.zeros(numTimeStep + 1) # Q value estimate with harmonic series step size\n",
    "q_f = np.zeros(numTimeStep + 1) # Q value estimate with fixed step size\n",
    "FixedStepSize = 0.5\n",
    "for step in range(1, numTimeStep + 1):\n",
    "    if step < numTimeStep / 2:\n",
    "        r = random.gauss(mu = 1, sigma = 0.1)\n",
    "    else:\n",
    "        r = random.gauss(mu = 3, sigma = 0.1)\n",
    "    q_h[step] = estimate(OldEstimate = q_h[step - 1], StepSize = 1 / step, Target = r)\n",
    "    q_f[step] = estimate(OldEstimate = q_f[step - 1], StepSize = FixedStepSize, Target = r)\n",
    "    \n",
    "q_h = q_h[1:]\n",
    "q_f = q_f[1:]"
   ]
  },
  {
   "cell_type": "code",
   "execution_count": 3,
   "metadata": {},
   "outputs": [
    {
     "data": {
      "image/png": "[encoded data removed]",
      "text/plain": [
       "<Figure size 432x288 with 1 Axes>"
      ]
     },
     "metadata": {
      "needs_background": "light"
     },
     "output_type": "display_data"
    }
   ],
   "source": [
    "x = np.arange(numTimeStep)\n",
    "plt.plot(x, q_f, 'r')\n",
    "plt.plot(x, q_h, 'g')\n",
    "plt.show()"
   ]
  },
  {
   "cell_type": "code",
   "execution_count": 4,
   "metadata": {},
   "outputs": [
    {
     "name": "stdout",
     "output_type": "stream",
     "text": [
      "Values:\n",
      "[ 0.61264537  0.27923079 -0.84600857  0.05469574 -1.09990968]\n",
      "Greedy Choice = 0\n",
      "Epsilon-Greedy Choice = 4\n"
     ]
    }
   ],
   "source": [
    "from RLalgs.policy import epsilon_greedy\n",
    "np.random.seed(6885)\n",
    "q = np.random.normal(0, 1, size = 5)\n",
    "greedy_action = epsilon_greedy(q, e = 0) #Use epsilon = 0 for Greedy\n",
    "e_greedy_action = epsilon_greedy(q, e = 0.1, seed = 6885)\n",
    "print('Values:')\n",
    "print(q)\n",
    "print('Greedy Choice =', greedy_action)\n",
    "print('Epsilon-Greedy Choice =', e_greedy_action)"
   ]
  },
  {
   "cell_type": "code",
   "execution_count": 5,
   "metadata": {},
   "outputs": [],
   "source": [
    "currently_not_finished = '''\n",
    "from RLalgs.policy import greedy, epsilon_greedy\n",
    "np.random.seed(6885)\n",
    "q_star = np.random.normal(0, 1, size = 10)\n",
    "num = 1000\n",
    "Na = np.zeros([3, 10])\n",
    "q = np.zeros([3, 10])\n",
    "for step in range(num):\n",
    "    a1 = greedy(q[0])\n",
    "    a2 = epsilon_greedy(q[1], e = 0.01)\n",
    "    a3 = epsilon_greedy(q[2], e = 0.1)\n",
    "    r1 = np.random.normal(q_star[a1], 1)\n",
    "    r2 = np.random.normal(q_star[a2], 1)\n",
    "    r3 = np.random.normal(q_star[a3], 1)\n",
    "    Na[np.arange(3), [a1, a2, a3]] += 1\n",
    "    q[a1] = estimate(OldEstimate = q_h[step - 1], StepSize = 1 / step, Target = r)\n",
    "'''"
   ]
  },
  {
   "cell_type": "code",
   "execution_count": 6,
   "metadata": {},
   "outputs": [],
   "source": [
    "env = gym.make('FrozenLake-v0')"
   ]
  },
  {
   "cell_type": "code",
   "execution_count": 7,
   "metadata": {},
   "outputs": [
    {
     "name": "stdout",
     "output_type": "stream",
     "text": [
      "State values:\n",
      "[0.01920812 0.02120785 0.03387831 0.01117984 0.0369987  0.\n",
      " 0.08145373 0.         0.08657056 0.16024575 0.21295121 0.\n",
      " 0.         0.18607148 0.40360723 0.        ]\n",
      "Number of iterations to converge = 5\n"
     ]
    }
   ],
   "source": [
    "from RLalgs.pi import policy_iteration\n",
    "V, policy, numIterations = policy_iteration(env = env.env, gamma = 0.99, max_iteration = 1000, theta = 1e-7)\n",
    "print('State values:')\n",
    "print(V)\n",
    "print('Number of iterations to converge =', numIterations)"
   ]
  },
  {
   "cell_type": "code",
   "execution_count": 8,
   "metadata": {},
   "outputs": [
    {
     "name": "stdout",
     "output_type": "stream",
     "text": [
      "State values:\n",
      "[0.54202474 0.49880161 0.47069385 0.45684973 0.55844991 0.\n",
      " 0.35834728 0.         0.59179788 0.64307921 0.61520702 0.\n",
      " 0.         0.74172001 0.86283722 0.        ]\n",
      "Number of iterations to converge = 276\n"
     ]
    }
   ],
   "source": [
    "from RLalgs.vi import value_iteration\n",
    "V, policy, numIterations = value_iteration(env = env.env, gamma = 0.99, max_iteration = 1000, theta = 1e-7)\n",
    "print('State values:')\n",
    "print(V)\n",
    "print('Number of iterations to converge =', numIterations)"
   ]
  },
  {
   "cell_type": "code",
   "execution_count": 9,
   "metadata": {},
   "outputs": [],
   "source": [
    "#from RLalgs.ql import QLearning"
   ]
  },
  {
   "cell_type": "code",
   "execution_count": 10,
   "metadata": {},
   "outputs": [],
   "source": [
    "#from RLalgs.sarsa import SARSA"
   ]
  }
 ],
 "metadata": {
  "kernelspec": {
   "display_name": "Python 3",
   "language": "python",
   "name": "python3"
  },
  "language_info": {
   "codemirror_mode": {
    "name": "ipython",
    "version": 3
   },
   "file_extension": ".py",
   "mimetype": "text/x-python",
   "name": "python",
   "nbconvert_exporter": "python",
   "pygments_lexer": "ipython3",
   "version": "3.6.6"
  }
 },
 "nbformat": 4,
 "nbformat_minor": 2
}
